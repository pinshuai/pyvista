{
 "cells": [
  {
   "cell_type": "code",
   "execution_count": null,
   "metadata": {
    "collapsed": false,
    "jupyter": {
     "outputs_hidden": false
    }
   },
   "outputs": [],
   "source": [
    "%matplotlib inline\n",
    "from pyvista import set_plot_theme\n",
    "set_plot_theme('document')"
   ]
  },
  {
   "cell_type": "code",
   "execution_count": 19,
   "metadata": {},
   "outputs": [],
   "source": [
    "import pyvista\n",
    "from pyvista import examples\n",
    "import numpy as np\n",
    "import vtk\n",
    "\n",
    "# pyvista.rcParams['use_panel'] = False"
   ]
  },
  {
   "cell_type": "markdown",
   "metadata": {},
   "source": [
    "# Overview of PyVista\n",
    "\n",
    "This notebook demos the examples present directly in the PyVista package and helps new users learn how to get started using PyVista. \n",
    "\n",
    "This notebook is outlined in a manner that builds up an understanding of how PyVista wraps VTK data objects so that we can show how to use the PyVista objects then demostrate how those PyVista objects are plotted."
   ]
  },
  {
   "cell_type": "markdown",
   "metadata": {},
   "source": [
    "-----\n",
    "\n",
    "## Getting Started\n",
    "\n",
    "Do you have some VTK data objects or VTK data files that you'd like to use in a Pythonic manner? Then go ahead and load your data file with its appriate class! The classes available in PyVista correspond to VTK classes in the following way:\n",
    "\n",
    "| PyVista Class | `vtk` Class |\n",
    "|--------------|-------------|\n",
    "|`pyvista.PolyData`|`vtk.vtkPolyData`|\n",
    "|`pyvista.StructuredGrid`|`vtk.vtkStructuredGrid`|\n",
    "|`pyvista.UnstructuredGrid`|`vtk.vtkUnstructuredGrid`|\n",
    "|`pyvista.UniformGrid`|`vtk.vtkImageData`|\n",
    "|`pyvista.RectilinearGrid`|`vtk.vtkRectilinearGrid`|\n",
    "\n",
    "If you want to load a data file, then go ahead and use PyVista's `read` method to read your file. This function will handle figuing out what kind of data file you have and return the appropriate PyVista object for you:\n",
    "\n",
    "```py\n",
    "import pyvista\n",
    "filename = 'myfile.vtk'\n",
    "data = pyvista.read(filename)\n",
    "```\n",
    "\n",
    "We already have some VTK files under the examples directory so how about we grab that filename and demo this!"
   ]
  },
  {
   "cell_type": "code",
   "execution_count": 2,
   "metadata": {},
   "outputs": [
    {
     "data": {
      "text/plain": [
       "pyvista.core.grid.UniformGrid"
      ]
     },
     "execution_count": 2,
     "metadata": {},
     "output_type": "execute_result"
    }
   ],
   "source": [
    "#NBVAL_CHECK_OUTPUT\n",
    "filename = examples.uniformfile\n",
    "data = pyvista.read(filename)\n",
    "type(data)"
   ]
  },
  {
   "cell_type": "markdown",
   "metadata": {},
   "source": [
    "Awesome! Now we have a `UniformGrid` ready to use (this is essentially just a wrapped `vtkImageData` object, so you could still pass this on to VTK algorithms.\n",
    "\n",
    "*So why do I want a PyVista wrapped object?* **First**, these allow you to access attributes of the VTK data object in a more Pythonic manner. For example:"
   ]
  },
  {
   "cell_type": "code",
   "execution_count": 3,
   "metadata": {},
   "outputs": [
    {
     "data": {
      "text/plain": [
       "729"
      ]
     },
     "execution_count": 3,
     "metadata": {},
     "output_type": "execute_result"
    }
   ],
   "source": [
    "#NBVAL_CHECK_OUTPUT\n",
    "data.n_cells"
   ]
  },
  {
   "cell_type": "code",
   "execution_count": 4,
   "metadata": {},
   "outputs": [
    {
     "data": {
      "text/plain": [
       "1000"
      ]
     },
     "execution_count": 4,
     "metadata": {},
     "output_type": "execute_result"
    }
   ],
   "source": [
    "#NBVAL_CHECK_OUTPUT\n",
    "data.n_points"
   ]
  },
  {
   "cell_type": "code",
   "execution_count": 5,
   "metadata": {},
   "outputs": [
    {
     "data": {
      "text/plain": [
       "2"
      ]
     },
     "execution_count": 5,
     "metadata": {},
     "output_type": "execute_result"
    }
   ],
   "source": [
    "#NBVAL_CHECK_OUTPUT\n",
    "data.n_arrays"
   ]
  },
  {
   "cell_type": "code",
   "execution_count": 6,
   "metadata": {},
   "outputs": [
    {
     "data": {
      "text/plain": [
       "array([[0., 0., 0.],\n",
       "       [1., 0., 0.],\n",
       "       [2., 0., 0.],\n",
       "       ...,\n",
       "       [7., 9., 9.],\n",
       "       [8., 9., 9.],\n",
       "       [9., 9., 9.]])"
      ]
     },
     "execution_count": 6,
     "metadata": {},
     "output_type": "execute_result"
    }
   ],
   "source": [
    "data.points"
   ]
  },
  {
   "cell_type": "markdown",
   "metadata": {},
   "source": [
    "**Second**, PyVista has HTML representation for the VTK data objects that will give you a whole lot more insight into the data object that VTK's typicall printing of the class name and memory address:"
   ]
  },
  {
   "cell_type": "code",
   "execution_count": 7,
   "metadata": {},
   "outputs": [
    {
     "data": {
      "text/html": [
       "<table><tr><th>Header</th><th>Data Arrays</th></tr><tr><td>\n",
       "<table>\n",
       "<tr><th>UniformGrid</th><th>Information</th></tr>\n",
       "<tr><td>N Cells</td><td>729</td></tr>\n",
       "<tr><td>N Points</td><td>1000</td></tr>\n",
       "<tr><td>X Bounds</td><td>0.000e+00, 9.000e+00</td></tr>\n",
       "<tr><td>Y Bounds</td><td>0.000e+00, 9.000e+00</td></tr>\n",
       "<tr><td>Z Bounds</td><td>0.000e+00, 9.000e+00</td></tr>\n",
       "<tr><td>Dimensions</td><td>10, 10, 10</td></tr>\n",
       "<tr><td>Spacing</td><td>1.000e+00, 1.000e+00, 1.000e+00</td></tr>\n",
       "<tr><td>N Arrays</td><td>2</td></tr>\n",
       "</table>\n",
       "\n",
       "</td><td>\n",
       "<table>\n",
       "<tr><th>Name</th><th>Field</th><th>Type</th><th>N Comp</th><th>Min</th><th>Max</th></tr>\n",
       "<tr><td><b>Spatial Point Data</b></td><td>Points</td><td>float64</td><td>1</td><td>0.000e+00</td><td>7.290e+02</td></tr>\n",
       "<tr><td>Spatial Cell Data</td><td>Cells</td><td>float64</td><td>1</td><td>0.000e+00</td><td>5.120e+02</td></tr>\n",
       "</table>\n",
       "\n",
       "</td></tr> </table>"
      ],
      "text/plain": [
       "UniformGrid (0x7f97c2380948)\n",
       "  N Cells:\t729\n",
       "  N Points:\t1000\n",
       "  X Bounds:\t0.000e+00, 9.000e+00\n",
       "  Y Bounds:\t0.000e+00, 9.000e+00\n",
       "  Z Bounds:\t0.000e+00, 9.000e+00\n",
       "  Dimensions:\t10, 10, 10\n",
       "  Spacing:\t1.000e+00, 1.000e+00, 1.000e+00\n",
       "  N Arrays:\t2"
      ]
     },
     "execution_count": 7,
     "metadata": {},
     "output_type": "execute_result"
    }
   ],
   "source": [
    "data"
   ]
  },
  {
   "cell_type": "markdown",
   "metadata": {},
   "source": [
    "**And third**, PyVista has functions to handle plotting these objects right out of the box. You can simply call the `plot()` method on any PyVista object and a rendering will be produced for you!\n",
    "You can also pass the scalar name that you'd like to view and PyVista will handle coloring your dataset by that array:"
   ]
  },
  {
   "cell_type": "code",
   "execution_count": 20,
   "metadata": {},
   "outputs": [
    {
     "data": {
      "image/png": "[encoded data removed]",
      "text/plain": [
       "<PIL.Image.Image image mode=RGB size=1024x768 at 0x7F97A0297A90>"
      ]
     },
     "metadata": {},
     "output_type": "display_data"
    }
   ],
   "source": [
    "data.plot(scalars='Spatial Cell Data')"
   ]
  },
  {
   "cell_type": "markdown",
   "metadata": {},
   "source": [
    "-----\n",
    "\n",
    "## Creating new VTK objects on the fly\n",
    "\n",
    "Here is a demo on how to quickly create new VTK data objects using PyVista"
   ]
  },
  {
   "cell_type": "markdown",
   "metadata": {},
   "source": [
    "### vtkPolyData"
   ]
  },
  {
   "cell_type": "code",
   "execution_count": 9,
   "metadata": {},
   "outputs": [
    {
     "data": {
      "text/html": [
       "\n",
       "<table>\n",
       "<tr><th>PolyData</th><th>Information</th></tr>\n",
       "<tr><td>N Cells</td><td>100</td></tr>\n",
       "<tr><td>N Points</td><td>100</td></tr>\n",
       "<tr><td>X Bounds</td><td>1.984e-01, 9.982e+00</td></tr>\n",
       "<tr><td>Y Bounds</td><td>9.716e-02, 9.998e+00</td></tr>\n",
       "<tr><td>Z Bounds</td><td>9.126e-02, 9.720e+00</td></tr>\n",
       "<tr><td>N Arrays</td><td>0</td></tr>\n",
       "</table>\n",
       "\n"
      ],
      "text/plain": [
       "PolyData (0x7f97c2380c48)\n",
       "  N Cells:\t100\n",
       "  N Points:\t100\n",
       "  X Bounds:\t1.984e-01, 9.982e+00\n",
       "  Y Bounds:\t9.716e-02, 9.998e+00\n",
       "  Z Bounds:\t9.126e-02, 9.720e+00\n",
       "  N Arrays:\t0"
      ]
     },
     "execution_count": 9,
     "metadata": {},
     "output_type": "execute_result"
    }
   ],
   "source": [
    "x = np.random.uniform(0, 10, 100)\n",
    "y = np.random.uniform(0, 10, 100)\n",
    "z = np.random.uniform(0, 10, 100)\n",
    "\n",
    "mesh = pyvista.PolyData(np.c_[x,y,z])\n",
    "mesh"
   ]
  },
  {
   "cell_type": "markdown",
   "metadata": {},
   "source": [
    "### vtkStructuredGrid"
   ]
  },
  {
   "cell_type": "code",
   "execution_count": 21,
   "metadata": {},
   "outputs": [
    {
     "data": {
      "image/png": "[encoded data removed]",
      "text/plain": [
       "<PIL.Image.Image image mode=RGB size=1024x768 at 0x7F97A02A67F0>"
      ]
     },
     "metadata": {},
     "output_type": "display_data"
    }
   ],
   "source": [
    "xrng = np.arange(-10, 10, 2)\n",
    "yrng = np.arange(-10, 10, 1)\n",
    "zrng = np.arange(-10, 10, 0.5)\n",
    "x, y, z = np.meshgrid(xrng, yrng, zrng)\n",
    "grid = pyvista.StructuredGrid(x, y, z)\n",
    "grid.plot()"
   ]
  },
  {
   "cell_type": "markdown",
   "metadata": {},
   "source": [
    "### vtkUnstructuredGrid"
   ]
  },
  {
   "cell_type": "code",
   "execution_count": 22,
   "metadata": {},
   "outputs": [
    {
     "data": {
      "image/png": "[encoded data removed]",
      "text/plain": [
       "<PIL.Image.Image image mode=RGB size=1024x768 at 0x7F97A02A6668>"
      ]
     },
     "metadata": {},
     "output_type": "display_data"
    }
   ],
   "source": [
    "offset = np.array([0, 9])\n",
    "cells = np.array([8, 0, 1, 2, 3, 4, 5, 6, 7, 8, 8, 9, 10, 11, 12, 13, 14, 15])\n",
    "cell_type = np.array([vtk.VTK_HEXAHEDRON, vtk.VTK_HEXAHEDRON], np.int8)\n",
    "\n",
    "cell1 = np.array([[0, 0, 0],\n",
    "                  [1, 0, 0],\n",
    "                  [1, 1, 0],\n",
    "                  [0, 1, 0],\n",
    "                  [0, 0, 1],\n",
    "                  [1, 0, 1],\n",
    "                  [1, 1, 1],\n",
    "                  [0, 1, 1]])\n",
    "\n",
    "cell2 = np.array([[0, 0, 2],\n",
    "                  [1, 0, 2],\n",
    "                  [1, 1, 2],\n",
    "                  [0, 1, 2],\n",
    "                  [0, 0, 3],\n",
    "                  [1, 0, 3],\n",
    "                  [1, 1, 3],\n",
    "                  [0, 1, 3]])\n",
    "\n",
    "points = np.vstack((cell1, cell2))\n",
    "\n",
    "grid = pyvista.UnstructuredGrid(offset, cells, cell_type, points)\n",
    "grid.plot()"
   ]
  },
  {
   "cell_type": "markdown",
   "metadata": {},
   "source": [
    "### vtkImageData"
   ]
  },
  {
   "cell_type": "code",
   "execution_count": 12,
   "metadata": {},
   "outputs": [
    {
     "data": {
      "image/png": "[encoded data removed]",
      "text/plain": [
       "<PIL.Image.Image image mode=RGB size=1024x768 at 0x7F97C2451CC0>"
      ]
     },
     "metadata": {},
     "output_type": "display_data"
    }
   ],
   "source": [
    "dims = (10, 10, 10)\n",
    "grid = pyvista.UniformGrid(dims) # Using default spacing and origin\n",
    "spacing = (2, 1, 5)\n",
    "grid = pyvista.UniformGrid(dims, spacing) # Usign default origin\n",
    "origin = (10, 35, 50)\n",
    "grid = pyvista.UniformGrid(dims, spacing, origin) # Everything is specified\n",
    "grid.plot()"
   ]
  },
  {
   "cell_type": "markdown",
   "metadata": {},
   "source": [
    "### vtkRectilinearGrid"
   ]
  },
  {
   "cell_type": "code",
   "execution_count": 14,
   "metadata": {},
   "outputs": [
    {
     "data": {
      "image/png": "[encoded data removed]",
      "text/plain": [
       "<PIL.Image.Image image mode=RGB size=1024x768 at 0x7F97C244B7B8>"
      ]
     },
     "metadata": {},
     "output_type": "display_data"
    }
   ],
   "source": [
    "xrng = np.arange(-10, 10, 2)\n",
    "yrng = np.arange(-10, 10, 5)\n",
    "zrng = np.arange(-10, 10, 1)\n",
    "grid = pyvista.RectilinearGrid(xrng, yrng, zrng)\n",
    "grid.plot()"
   ]
  },
  {
   "cell_type": "code",
   "execution_count": null,
   "metadata": {},
   "outputs": [],
   "source": []
  }
 ],
 "metadata": {
  "kernelspec": {
   "display_name": "Python (vtk_env)",
   "language": "python",
   "name": "vtk_env"
  },
  "language_info": {
   "codemirror_mode": {
    "name": "ipython",
    "version": 3
   },
   "file_extension": ".py",
   "mimetype": "text/x-python",
   "name": "python",
   "nbconvert_exporter": "python",
   "pygments_lexer": "ipython3",
   "version": "3.7.3"
  }
 },
 "nbformat": 4,
 "nbformat_minor": 4
}
