{
 "cells": [
  {
   "cell_type": "code",
   "execution_count": 5,
   "metadata": {
    "collapsed": false,
    "jupyter": {
     "outputs_hidden": false
    }
   },
   "outputs": [],
   "source": [
    "%matplotlib inline\n",
    "from pyvista import set_plot_theme\n",
    "set_plot_theme('document')"
   ]
  },
  {
   "cell_type": "markdown",
   "metadata": {},
   "source": [
    "\n",
    "Creating a Uniform Grid\n",
    "~~~~~~~~~~~~~~~~~~~~~~~\n",
    "\n",
    "Create a simple uniform grid from a 3D NumPy array of values.\n"
   ]
  },
  {
   "cell_type": "code",
   "execution_count": 6,
   "metadata": {
    "collapsed": false,
    "jupyter": {
     "outputs_hidden": false
    }
   },
   "outputs": [],
   "source": [
    "import pyvista as pv\n",
    "import numpy as np"
   ]
  },
  {
   "cell_type": "markdown",
   "metadata": {},
   "source": [
    "Take a 3D NumPy array of data values that holds some spatial data where each\n",
    "axis corresponds to the XYZ cartesian axes. This example will create a\n",
    ":class:`pyvista.UniformGrid` object that will hold the spatial reference for\n",
    "a 3D grid which a 3D NumPy array of values can be plotted against.\n",
    "\n"
   ]
  },
  {
   "cell_type": "markdown",
   "metadata": {},
   "source": [
    "Create the 3D NumPy array of spatially referenced data\n",
    "This is spatially referenced such that the grid is 20 by 5 by 10\n",
    "(nx by ny by nz)\n",
    "\n"
   ]
  },
  {
   "cell_type": "code",
   "execution_count": 7,
   "metadata": {
    "collapsed": false,
    "jupyter": {
     "outputs_hidden": false
    }
   },
   "outputs": [
    {
     "data": {
      "application/vnd.holoviews_exec.v0+json": "",
      "text/html": [
       "<div id='1009'>\n",
       "\n",
       "\n",
       "\n",
       "\n",
       "\n",
       "  <div class=\"bk-root\" id=\"467df4dc-eafa-49d1-8bcd-f213c1c6c19e\" data-root-id=\"1009\"></div>\n",
       "</div>\n",
       "<script type=\"application/javascript\">\n",
       "    function msg_handler(msg) {\n",
       "      var metadata = msg.metadata;\n",
       "      var buffers = msg.buffers;\n",
       "      var msg = msg.content.data;\n",
       "      if ((metadata.msg_type == \"Ready\")) {\n",
       "        if (metadata.content) {\n",
       "          console.log(\"Python callback returned following output:\", metadata.content);\n",
       "        }\n",
       "      } else if (metadata.msg_type == \"Error\") {\n",
       "        console.log(\"Python failed with the following traceback:\", metadata.traceback)\n",
       "      } else {\n",
       "        \n",
       "var plot_id = \"1009\";\n",
       "if (plot_id in window.PyViz.plot_index) {\n",
       "  var plot = window.PyViz.plot_index[plot_id];\n",
       "} else {\n",
       "  var plot = Bokeh.index[plot_id];\n",
       "}\n",
       "\n",
       "if (plot_id in window.PyViz.receivers) {\n",
       "  var receiver = window.PyViz.receivers[plot_id];\n",
       "} else if (Bokeh.protocol === undefined) {\n",
       "  return;\n",
       "} else {\n",
       "  var receiver = new Bokeh.protocol.Receiver();\n",
       "  window.PyViz.receivers[plot_id] = receiver;\n",
       "}\n",
       "\n",
       "if ((buffers != undefined) && (buffers.length > 0)) {\n",
       "  receiver.consume(buffers[0].buffer)\n",
       "} else {\n",
       "  receiver.consume(msg)\n",
       "}\n",
       "\n",
       "const comm_msg = receiver.message;\n",
       "if ((comm_msg != null) && (Object.keys(comm_msg.content).length > 0)) {\n",
       "  plot.model.document.apply_json_patch(comm_msg.content, comm_msg.buffers)\n",
       "}\n",
       "\n",
       "      }\n",
       "    }\n",
       "    if ((window.PyViz == undefined) || (!window.PyViz.comm_manager)) {\n",
       "      console.log(\"Could not find comm manager\")\n",
       "    } else {\n",
       "      window.PyViz.comm_manager.register_target('1009', '3739feb36d6342a4824ad15f49d92cd4', msg_handler);\n",
       "    }\n",
       "    \n",
       "(function(root) {\n",
       "  function embed_document(root) {\n",
       "    \n",
       "  var docs_json = {\"9c1cedf2-71d4-465a-94c5-7608eadace01\":{\"roots\":{\"references\":[{\"attributes\":{\"code\":\"\\nif (!window.PyViz) {\\n  return;\\n}\\nvar receiver = window.PyViz.receivers['1009'];\\nvar events = receiver ? receiver._partial.content.events : [];\\nfor (var event of events) {\\n  if ((event.kind == 'ModelChanged') && (event.attr == 'enable_keybindings') &&\\n      (cb_obj.id == event.model.id) &&\\n      (cb_obj['enable_keybindings'] == event.new)) {\\n    events.pop(events.indexOf(event))\\n    return;\\n  }\\n}\\n\\ndata = {enable_keybindings: cb_obj['enable_keybindings'], 'id': cb_obj.id};\\n\\nfunction unique_events(events) {\\n  // Processes the event queue ignoring duplicate events\\n  // of the same type\\n  var unique = [];\\n  var unique_events = [];\\n  for (var i=0; i<events.length; i++) {\\n    var _tmpevent = events[i];\\n    event = _tmpevent[0];\\n    data = _tmpevent[1];\\n    if (unique_events.indexOf(event)===-1) {\\n      unique.unshift(data);\\n      unique_events.push(event);\\n      }\\n  }\\n  return unique;\\n}\\n\\nfunction process_events(comm_status) {\\n  // Iterates over event queue and sends events via Comm\\n  var events = unique_events(comm_status.event_buffer);\\n  for (var i=0; i<events.length; i++) {\\n    var data = events[i];\\n    var comm = window.PyViz.comms[data[\\\"comm_id\\\"]];\\n    comm.send(data);\\n  }\\n  comm_status.event_buffer = [];\\n}\\n\\nfunction on_msg(msg) {\\n  // Receives acknowledgement from Python, processing event\\n  // and unblocking Comm if event queue empty\\n  var metadata = msg.metadata;\\n  var comm_id = metadata.comm_id\\n  var comm_status = window.PyViz.comm_status[comm_id];\\n  if (comm_status.event_buffer.length) {\\n    process_events(comm_status);\\n    comm_status.blocked = true;\\n    comm_status.time = Date.now()+50;\\n  } else {\\n    comm_status.blocked = false;\\n  }\\n  comm_status.event_buffer = [];\\n  if ((metadata.msg_type == \\\"Ready\\\") && metadata.content) {\\n    console.log(\\\"Python callback returned following output:\\\", metadata.content);\\n  } else if (metadata.msg_type == \\\"Error\\\") {\\n    console.log(\\\"Python failed with the following traceback:\\\", metadata.traceback)\\n  }\\n}\\n\\n// Initialize Comm\\nif ((window.PyViz == undefined) || (window.PyViz.comm_manager == undefined)) { return }\\ncomm = window.PyViz.comm_manager.get_client_comm(\\\"1009\\\", \\\"3eff95927bb34423bd8790e89b607534\\\", on_msg);\\nif (!comm) {\\n  return\\n}\\n\\n// Initialize event queue and timeouts for Comm\\nvar comm_status = window.PyViz.comm_status[\\\"3eff95927bb34423bd8790e89b607534\\\"];\\nif (comm_status === undefined) {\\n  comm_status = {event_buffer: [], blocked: false, time: Date.now()}\\n  window.PyViz.comm_status[\\\"3eff95927bb34423bd8790e89b607534\\\"] = comm_status\\n}\\n\\n// Add current event to queue and process queue if not blocked\\nevent_name = cb_obj.event_name\\ndata['comm_id'] = \\\"3eff95927bb34423bd8790e89b607534\\\";\\ntimeout = comm_status.time + 20000;\\nif ((comm_status.blocked && (Date.now() < timeout))) {\\n  comm_status.event_buffer.unshift([event_name, data]);\\n} else {\\n  comm_status.event_buffer.unshift([event_name, data]);\\n  setTimeout(function() { process_events(comm_status); }, 50);\\n  comm_status.blocked = true;\\n  comm_status.time = Date.now()+50;\\n}\\n\"},\"id\":\"1012\",\"type\":\"CustomJS\"},{\"attributes\":{\"code\":\"\\nif (!window.PyViz) {\\n  return;\\n}\\nvar receiver = window.PyViz.receivers['1009'];\\nvar events = receiver ? receiver._partial.content.events : [];\\nfor (var event of events) {\\n  if ((event.kind == 'ModelChanged') && (event.attr == 'camera') &&\\n      (cb_obj.id == event.model.id) &&\\n      (cb_obj['camera'] == event.new)) {\\n    events.pop(events.indexOf(event))\\n    return;\\n  }\\n}\\n\\ndata = {camera: cb_obj['camera'], 'id': cb_obj.id};\\n\\nfunction unique_events(events) {\\n  // Processes the event queue ignoring duplicate events\\n  // of the same type\\n  var unique = [];\\n  var unique_events = [];\\n  for (var i=0; i<events.length; i++) {\\n    var _tmpevent = events[i];\\n    event = _tmpevent[0];\\n    data = _tmpevent[1];\\n    if (unique_events.indexOf(event)===-1) {\\n      unique.unshift(data);\\n      unique_events.push(event);\\n      }\\n  }\\n  return unique;\\n}\\n\\nfunction process_events(comm_status) {\\n  // Iterates over event queue and sends events via Comm\\n  var events = unique_events(comm_status.event_buffer);\\n  for (var i=0; i<events.length; i++) {\\n    var data = events[i];\\n    var comm = window.PyViz.comms[data[\\\"comm_id\\\"]];\\n    comm.send(data);\\n  }\\n  comm_status.event_buffer = [];\\n}\\n\\nfunction on_msg(msg) {\\n  // Receives acknowledgement from Python, processing event\\n  // and unblocking Comm if event queue empty\\n  var metadata = msg.metadata;\\n  var comm_id = metadata.comm_id\\n  var comm_status = window.PyViz.comm_status[comm_id];\\n  if (comm_status.event_buffer.length) {\\n    process_events(comm_status);\\n    comm_status.blocked = true;\\n    comm_status.time = Date.now()+50;\\n  } else {\\n    comm_status.blocked = false;\\n  }\\n  comm_status.event_buffer = [];\\n  if ((metadata.msg_type == \\\"Ready\\\") && metadata.content) {\\n    console.log(\\\"Python callback returned following output:\\\", metadata.content);\\n  } else if (metadata.msg_type == \\\"Error\\\") {\\n    console.log(\\\"Python failed with the following traceback:\\\", metadata.traceback)\\n  }\\n}\\n\\n// Initialize Comm\\nif ((window.PyViz == undefined) || (window.PyViz.comm_manager == undefined)) { return }\\ncomm = window.PyViz.comm_manager.get_client_comm(\\\"1009\\\", \\\"3eff95927bb34423bd8790e89b607534\\\", on_msg);\\nif (!comm) {\\n  return\\n}\\n\\n// Initialize event queue and timeouts for Comm\\nvar comm_status = window.PyViz.comm_status[\\\"3eff95927bb34423bd8790e89b607534\\\"];\\nif (comm_status === undefined) {\\n  comm_status = {event_buffer: [], blocked: false, time: Date.now()}\\n  window.PyViz.comm_status[\\\"3eff95927bb34423bd8790e89b607534\\\"] = comm_status\\n}\\n\\n// Add current event to queue and process queue if not blocked\\nevent_name = cb_obj.event_name\\ndata['comm_id'] = \\\"3eff95927bb34423bd8790e89b607534\\\";\\ntimeout = comm_status.time + 20000;\\nif ((comm_status.blocked && (Date.now() < timeout))) {\\n  comm_status.event_buffer.unshift([event_name, data]);\\n} else {\\n  comm_status.event_buffer.unshift([event_name, data]);\\n  setTimeout(function() { process_events(comm_status); }, 50);\\n  comm_status.blocked = true;\\n  comm_status.time = Date.now()+50;\\n}\\n\"},\"id\":\"1011\",\"type\":\"CustomJS\"},{\"attributes\":{\"data\":\"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\",\"height\":400,\"js_property_callbacks\":{\"change:camera\":[{\"id\":\"1011\",\"type\":\"CustomJS\"}],\"change:data\":[{\"id\":\"1010\",\"type\":\"CustomJS\"}],\"change:enable_keybindings\":[{\"id\":\"1012\",\"type\":\"CustomJS\"}]},\"margin\":[5,5,5,5],\"name\":\"VTK00014\",\"sizing_mode\":\"stretch_width\"},\"id\":\"1009\",\"type\":\"VTKPlot\"},{\"attributes\":{\"code\":\"\\nif (!window.PyViz) {\\n  return;\\n}\\nvar receiver = window.PyViz.receivers['1009'];\\nvar events = receiver ? receiver._partial.content.events : [];\\nfor (var event of events) {\\n  if ((event.kind == 'ModelChanged') && (event.attr == 'data') &&\\n      (cb_obj.id == event.model.id) &&\\n      (cb_obj['data'] == event.new)) {\\n    events.pop(events.indexOf(event))\\n    return;\\n  }\\n}\\n\\ndata = {data: cb_obj['data'], 'id': cb_obj.id};\\n\\nfunction unique_events(events) {\\n  // Processes the event queue ignoring duplicate events\\n  // of the same type\\n  var unique = [];\\n  var unique_events = [];\\n  for (var i=0; i<events.length; i++) {\\n    var _tmpevent = events[i];\\n    event = _tmpevent[0];\\n    data = _tmpevent[1];\\n    if (unique_events.indexOf(event)===-1) {\\n      unique.unshift(data);\\n      unique_events.push(event);\\n      }\\n  }\\n  return unique;\\n}\\n\\nfunction process_events(comm_status) {\\n  // Iterates over event queue and sends events via Comm\\n  var events = unique_events(comm_status.event_buffer);\\n  for (var i=0; i<events.length; i++) {\\n    var data = events[i];\\n    var comm = window.PyViz.comms[data[\\\"comm_id\\\"]];\\n    comm.send(data);\\n  }\\n  comm_status.event_buffer = [];\\n}\\n\\nfunction on_msg(msg) {\\n  // Receives acknowledgement from Python, processing event\\n  // and unblocking Comm if event queue empty\\n  var metadata = msg.metadata;\\n  var comm_id = metadata.comm_id\\n  var comm_status = window.PyViz.comm_status[comm_id];\\n  if (comm_status.event_buffer.length) {\\n    process_events(comm_status);\\n    comm_status.blocked = true;\\n    comm_status.time = Date.now()+50;\\n  } else {\\n    comm_status.blocked = false;\\n  }\\n  comm_status.event_buffer = [];\\n  if ((metadata.msg_type == \\\"Ready\\\") && metadata.content) {\\n    console.log(\\\"Python callback returned following output:\\\", metadata.content);\\n  } else if (metadata.msg_type == \\\"Error\\\") {\\n    console.log(\\\"Python failed with the following traceback:\\\", metadata.traceback)\\n  }\\n}\\n\\n// Initialize Comm\\nif ((window.PyViz == undefined) || (window.PyViz.comm_manager == undefined)) { return }\\ncomm = window.PyViz.comm_manager.get_client_comm(\\\"1009\\\", \\\"3eff95927bb34423bd8790e89b607534\\\", on_msg);\\nif (!comm) {\\n  return\\n}\\n\\n// Initialize event queue and timeouts for Comm\\nvar comm_status = window.PyViz.comm_status[\\\"3eff95927bb34423bd8790e89b607534\\\"];\\nif (comm_status === undefined) {\\n  comm_status = {event_buffer: [], blocked: false, time: Date.now()}\\n  window.PyViz.comm_status[\\\"3eff95927bb34423bd8790e89b607534\\\"] = comm_status\\n}\\n\\n// Add current event to queue and process queue if not blocked\\nevent_name = cb_obj.event_name\\ndata['comm_id'] = \\\"3eff95927bb34423bd8790e89b607534\\\";\\ntimeout = comm_status.time + 20000;\\nif ((comm_status.blocked && (Date.now() < timeout))) {\\n  comm_status.event_buffer.unshift([event_name, data]);\\n} else {\\n  comm_status.event_buffer.unshift([event_name, data]);\\n  setTimeout(function() { process_events(comm_status); }, 50);\\n  comm_status.blocked = true;\\n  comm_status.time = Date.now()+50;\\n}\\n\"},\"id\":\"1010\",\"type\":\"CustomJS\"}],\"root_ids\":[\"1009\"]},\"title\":\"Bokeh Application\",\"version\":\"1.3.0\"}};\n",
       "  var render_items = [{\"docid\":\"9c1cedf2-71d4-465a-94c5-7608eadace01\",\"roots\":{\"1009\":\"467df4dc-eafa-49d1-8bcd-f213c1c6c19e\"}}];\n",
       "  root.Bokeh.embed.embed_items_notebook(docs_json, render_items);\n",
       "\n",
       "  }\n",
       "  if (root.Bokeh !== undefined) {\n",
       "    embed_document(root);\n",
       "  } else {\n",
       "    var attempts = 0;\n",
       "    var timer = setInterval(function(root) {\n",
       "      if (root.Bokeh !== undefined) {\n",
       "        embed_document(root);\n",
       "        clearInterval(timer);\n",
       "      }\n",
       "      attempts++;\n",
       "      if (attempts > 100) {\n",
       "        console.log(\"Bokeh: ERROR: Unable to run BokehJS code because BokehJS library is missing\");\n",
       "        clearInterval(timer);\n",
       "      }\n",
       "    }, 10, root)\n",
       "  }\n",
       "})(window);</script>"
      ],
      "text/plain": [
       "VTK(vtkCocoaRenderWindow, height=400, sizing_mode='stretch_width')"
      ]
     },
     "execution_count": 7,
     "metadata": {
      "application/vnd.holoviews_exec.v0+json": {
       "id": "1009"
      }
     },
     "output_type": "execute_result"
    }
   ],
   "source": [
    "values = np.linspace(0, 10, 1000).reshape((20, 5, 10))\n",
    "values.shape\n",
    "\n",
    "# Create the spatial reference\n",
    "grid = pv.UniformGrid()\n",
    "\n",
    "# Set the grid dimensions: shape + 1 because we want to inject our values on\n",
    "#   the CELL data\n",
    "grid.dimensions = np.array(values.shape) + 1\n",
    "\n",
    "# Edit the spatial reference\n",
    "grid.origin = (100, 33, 55.6)  # The bottom left corner of the data set\n",
    "grid.spacing = (1, 5, 2)  # These are the cell sizes along each axis\n",
    "\n",
    "# Add the data values to the cell data\n",
    "grid.cell_arrays[\"values\"] = values.flatten(order=\"F\")  # Flatten the array!\n",
    "\n",
    "# Now plot the grid!\n",
    "grid.plot(show_edges=True)"
   ]
  },
  {
   "cell_type": "markdown",
   "metadata": {},
   "source": [
    "Don't like cell data? You could also add the NumPy array to the point data of\n",
    "a :class:`pyvista.UniformGrid`. Take note of the subtle difference when\n",
    "setting the grid dimensions upon initialization.\n",
    "\n"
   ]
  },
  {
   "cell_type": "code",
   "execution_count": 4,
   "metadata": {
    "collapsed": false,
    "jupyter": {
     "outputs_hidden": false
    }
   },
   "outputs": [
    {
     "data": {
      "application/vnd.holoviews_exec.v0+json": "",
      "text/html": [
       "<div id='1005'>\n",
       "\n",
       "\n",
       "\n",
       "\n",
       "\n",
       "  <div class=\"bk-root\" id=\"1cea9de8-169b-4c2b-9afd-357ec2892db4\" data-root-id=\"1005\"></div>\n",
       "</div>\n",
       "<script type=\"application/javascript\">\n",
       "    function msg_handler(msg) {\n",
       "      var metadata = msg.metadata;\n",
       "      var buffers = msg.buffers;\n",
       "      var msg = msg.content.data;\n",
       "      if ((metadata.msg_type == \"Ready\")) {\n",
       "        if (metadata.content) {\n",
       "          console.log(\"Python callback returned following output:\", metadata.content);\n",
       "        }\n",
       "      } else if (metadata.msg_type == \"Error\") {\n",
       "        console.log(\"Python failed with the following traceback:\", metadata.traceback)\n",
       "      } else {\n",
       "        \n",
       "var plot_id = \"1005\";\n",
       "if (plot_id in window.PyViz.plot_index) {\n",
       "  var plot = window.PyViz.plot_index[plot_id];\n",
       "} else {\n",
       "  var plot = Bokeh.index[plot_id];\n",
       "}\n",
       "\n",
       "if (plot_id in window.PyViz.receivers) {\n",
       "  var receiver = window.PyViz.receivers[plot_id];\n",
       "} else if (Bokeh.protocol === undefined) {\n",
       "  return;\n",
       "} else {\n",
       "  var receiver = new Bokeh.protocol.Receiver();\n",
       "  window.PyViz.receivers[plot_id] = receiver;\n",
       "}\n",
       "\n",
       "if ((buffers != undefined) && (buffers.length > 0)) {\n",
       "  receiver.consume(buffers[0].buffer)\n",
       "} else {\n",
       "  receiver.consume(msg)\n",
       "}\n",
       "\n",
       "const comm_msg = receiver.message;\n",
       "if ((comm_msg != null) && (Object.keys(comm_msg.content).length > 0)) {\n",
       "  plot.model.document.apply_json_patch(comm_msg.content, comm_msg.buffers)\n",
       "}\n",
       "\n",
       "      }\n",
       "    }\n",
       "    if ((window.PyViz == undefined) || (!window.PyViz.comm_manager)) {\n",
       "      console.log(\"Could not find comm manager\")\n",
       "    } else {\n",
       "      window.PyViz.comm_manager.register_target('1005', '3dc669387ec54c4f9bbf49e549e9114a', msg_handler);\n",
       "    }\n",
       "    \n",
       "(function(root) {\n",
       "  function embed_document(root) {\n",
       "    \n",
       "  var docs_json = {\"ae1081d4-c9d7-4718-96f3-24e7f9dc4b71\":{\"roots\":{\"references\":[{\"attributes\":{\"code\":\"\\nif (!window.PyViz) {\\n  return;\\n}\\nvar receiver = window.PyViz.receivers['1005'];\\nvar events = receiver ? receiver._partial.content.events : [];\\nfor (var event of events) {\\n  if ((event.kind == 'ModelChanged') && (event.attr == 'camera') &&\\n      (cb_obj.id == event.model.id) &&\\n      (cb_obj['camera'] == event.new)) {\\n    events.pop(events.indexOf(event))\\n    return;\\n  }\\n}\\n\\ndata = {camera: cb_obj['camera'], 'id': cb_obj.id};\\n\\nfunction unique_events(events) {\\n  // Processes the event queue ignoring duplicate events\\n  // of the same type\\n  var unique = [];\\n  var unique_events = [];\\n  for (var i=0; i<events.length; i++) {\\n    var _tmpevent = events[i];\\n    event = _tmpevent[0];\\n    data = _tmpevent[1];\\n    if (unique_events.indexOf(event)===-1) {\\n      unique.unshift(data);\\n      unique_events.push(event);\\n      }\\n  }\\n  return unique;\\n}\\n\\nfunction process_events(comm_status) {\\n  // Iterates over event queue and sends events via Comm\\n  var events = unique_events(comm_status.event_buffer);\\n  for (var i=0; i<events.length; i++) {\\n    var data = events[i];\\n    var comm = window.PyViz.comms[data[\\\"comm_id\\\"]];\\n    comm.send(data);\\n  }\\n  comm_status.event_buffer = [];\\n}\\n\\nfunction on_msg(msg) {\\n  // Receives acknowledgement from Python, processing event\\n  // and unblocking Comm if event queue empty\\n  var metadata = msg.metadata;\\n  var comm_id = metadata.comm_id\\n  var comm_status = window.PyViz.comm_status[comm_id];\\n  if (comm_status.event_buffer.length) {\\n    process_events(comm_status);\\n    comm_status.blocked = true;\\n    comm_status.time = Date.now()+50;\\n  } else {\\n    comm_status.blocked = false;\\n  }\\n  comm_status.event_buffer = [];\\n  if ((metadata.msg_type == \\\"Ready\\\") && metadata.content) {\\n    console.log(\\\"Python callback returned following output:\\\", metadata.content);\\n  } else if (metadata.msg_type == \\\"Error\\\") {\\n    console.log(\\\"Python failed with the following traceback:\\\", metadata.traceback)\\n  }\\n}\\n\\n// Initialize Comm\\nif ((window.PyViz == undefined) || (window.PyViz.comm_manager == undefined)) { return }\\ncomm = window.PyViz.comm_manager.get_client_comm(\\\"1005\\\", \\\"cbd0a74a2aeb4ea0852f7ee2971f235d\\\", on_msg);\\nif (!comm) {\\n  return\\n}\\n\\n// Initialize event queue and timeouts for Comm\\nvar comm_status = window.PyViz.comm_status[\\\"cbd0a74a2aeb4ea0852f7ee2971f235d\\\"];\\nif (comm_status === undefined) {\\n  comm_status = {event_buffer: [], blocked: false, time: Date.now()}\\n  window.PyViz.comm_status[\\\"cbd0a74a2aeb4ea0852f7ee2971f235d\\\"] = comm_status\\n}\\n\\n// Add current event to queue and process queue if not blocked\\nevent_name = cb_obj.event_name\\ndata['comm_id'] = \\\"cbd0a74a2aeb4ea0852f7ee2971f235d\\\";\\ntimeout = comm_status.time + 20000;\\nif ((comm_status.blocked && (Date.now() < timeout))) {\\n  comm_status.event_buffer.unshift([event_name, data]);\\n} else {\\n  comm_status.event_buffer.unshift([event_name, data]);\\n  setTimeout(function() { process_events(comm_status); }, 50);\\n  comm_status.blocked = true;\\n  comm_status.time = Date.now()+50;\\n}\\n\"},\"id\":\"1007\",\"type\":\"CustomJS\"},{\"attributes\":{\"code\":\"\\nif (!window.PyViz) {\\n  return;\\n}\\nvar receiver = window.PyViz.receivers['1005'];\\nvar events = receiver ? receiver._partial.content.events : [];\\nfor (var event of events) {\\n  if ((event.kind == 'ModelChanged') && (event.attr == 'enable_keybindings') &&\\n      (cb_obj.id == event.model.id) &&\\n      (cb_obj['enable_keybindings'] == event.new)) {\\n    events.pop(events.indexOf(event))\\n    return;\\n  }\\n}\\n\\ndata = {enable_keybindings: cb_obj['enable_keybindings'], 'id': cb_obj.id};\\n\\nfunction unique_events(events) {\\n  // Processes the event queue ignoring duplicate events\\n  // of the same type\\n  var unique = [];\\n  var unique_events = [];\\n  for (var i=0; i<events.length; i++) {\\n    var _tmpevent = events[i];\\n    event = _tmpevent[0];\\n    data = _tmpevent[1];\\n    if (unique_events.indexOf(event)===-1) {\\n      unique.unshift(data);\\n      unique_events.push(event);\\n      }\\n  }\\n  return unique;\\n}\\n\\nfunction process_events(comm_status) {\\n  // Iterates over event queue and sends events via Comm\\n  var events = unique_events(comm_status.event_buffer);\\n  for (var i=0; i<events.length; i++) {\\n    var data = events[i];\\n    var comm = window.PyViz.comms[data[\\\"comm_id\\\"]];\\n    comm.send(data);\\n  }\\n  comm_status.event_buffer = [];\\n}\\n\\nfunction on_msg(msg) {\\n  // Receives acknowledgement from Python, processing event\\n  // and unblocking Comm if event queue empty\\n  var metadata = msg.metadata;\\n  var comm_id = metadata.comm_id\\n  var comm_status = window.PyViz.comm_status[comm_id];\\n  if (comm_status.event_buffer.length) {\\n    process_events(comm_status);\\n    comm_status.blocked = true;\\n    comm_status.time = Date.now()+50;\\n  } else {\\n    comm_status.blocked = false;\\n  }\\n  comm_status.event_buffer = [];\\n  if ((metadata.msg_type == \\\"Ready\\\") && metadata.content) {\\n    console.log(\\\"Python callback returned following output:\\\", metadata.content);\\n  } else if (metadata.msg_type == \\\"Error\\\") {\\n    console.log(\\\"Python failed with the following traceback:\\\", metadata.traceback)\\n  }\\n}\\n\\n// Initialize Comm\\nif ((window.PyViz == undefined) || (window.PyViz.comm_manager == undefined)) { return }\\ncomm = window.PyViz.comm_manager.get_client_comm(\\\"1005\\\", \\\"cbd0a74a2aeb4ea0852f7ee2971f235d\\\", on_msg);\\nif (!comm) {\\n  return\\n}\\n\\n// Initialize event queue and timeouts for Comm\\nvar comm_status = window.PyViz.comm_status[\\\"cbd0a74a2aeb4ea0852f7ee2971f235d\\\"];\\nif (comm_status === undefined) {\\n  comm_status = {event_buffer: [], blocked: false, time: Date.now()}\\n  window.PyViz.comm_status[\\\"cbd0a74a2aeb4ea0852f7ee2971f235d\\\"] = comm_status\\n}\\n\\n// Add current event to queue and process queue if not blocked\\nevent_name = cb_obj.event_name\\ndata['comm_id'] = \\\"cbd0a74a2aeb4ea0852f7ee2971f235d\\\";\\ntimeout = comm_status.time + 20000;\\nif ((comm_status.blocked && (Date.now() < timeout))) {\\n  comm_status.event_buffer.unshift([event_name, data]);\\n} else {\\n  comm_status.event_buffer.unshift([event_name, data]);\\n  setTimeout(function() { process_events(comm_status); }, 50);\\n  comm_status.blocked = true;\\n  comm_status.time = Date.now()+50;\\n}\\n\"},\"id\":\"1008\",\"type\":\"CustomJS\"},{\"attributes\":{\"data\":\"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\",\"height\":400,\"js_property_callbacks\":{\"change:camera\":[{\"id\":\"1007\",\"type\":\"CustomJS\"}],\"change:data\":[{\"id\":\"1006\",\"type\":\"CustomJS\"}],\"change:enable_keybindings\":[{\"id\":\"1008\",\"type\":\"CustomJS\"}]},\"margin\":[5,5,5,5],\"name\":\"VTK00010\",\"sizing_mode\":\"stretch_width\"},\"id\":\"1005\",\"type\":\"VTKPlot\"},{\"attributes\":{\"code\":\"\\nif (!window.PyViz) {\\n  return;\\n}\\nvar receiver = window.PyViz.receivers['1005'];\\nvar events = receiver ? receiver._partial.content.events : [];\\nfor (var event of events) {\\n  if ((event.kind == 'ModelChanged') && (event.attr == 'data') &&\\n      (cb_obj.id == event.model.id) &&\\n      (cb_obj['data'] == event.new)) {\\n    events.pop(events.indexOf(event))\\n    return;\\n  }\\n}\\n\\ndata = {data: cb_obj['data'], 'id': cb_obj.id};\\n\\nfunction unique_events(events) {\\n  // Processes the event queue ignoring duplicate events\\n  // of the same type\\n  var unique = [];\\n  var unique_events = [];\\n  for (var i=0; i<events.length; i++) {\\n    var _tmpevent = events[i];\\n    event = _tmpevent[0];\\n    data = _tmpevent[1];\\n    if (unique_events.indexOf(event)===-1) {\\n      unique.unshift(data);\\n      unique_events.push(event);\\n      }\\n  }\\n  return unique;\\n}\\n\\nfunction process_events(comm_status) {\\n  // Iterates over event queue and sends events via Comm\\n  var events = unique_events(comm_status.event_buffer);\\n  for (var i=0; i<events.length; i++) {\\n    var data = events[i];\\n    var comm = window.PyViz.comms[data[\\\"comm_id\\\"]];\\n    comm.send(data);\\n  }\\n  comm_status.event_buffer = [];\\n}\\n\\nfunction on_msg(msg) {\\n  // Receives acknowledgement from Python, processing event\\n  // and unblocking Comm if event queue empty\\n  var metadata = msg.metadata;\\n  var comm_id = metadata.comm_id\\n  var comm_status = window.PyViz.comm_status[comm_id];\\n  if (comm_status.event_buffer.length) {\\n    process_events(comm_status);\\n    comm_status.blocked = true;\\n    comm_status.time = Date.now()+50;\\n  } else {\\n    comm_status.blocked = false;\\n  }\\n  comm_status.event_buffer = [];\\n  if ((metadata.msg_type == \\\"Ready\\\") && metadata.content) {\\n    console.log(\\\"Python callback returned following output:\\\", metadata.content);\\n  } else if (metadata.msg_type == \\\"Error\\\") {\\n    console.log(\\\"Python failed with the following traceback:\\\", metadata.traceback)\\n  }\\n}\\n\\n// Initialize Comm\\nif ((window.PyViz == undefined) || (window.PyViz.comm_manager == undefined)) { return }\\ncomm = window.PyViz.comm_manager.get_client_comm(\\\"1005\\\", \\\"cbd0a74a2aeb4ea0852f7ee2971f235d\\\", on_msg);\\nif (!comm) {\\n  return\\n}\\n\\n// Initialize event queue and timeouts for Comm\\nvar comm_status = window.PyViz.comm_status[\\\"cbd0a74a2aeb4ea0852f7ee2971f235d\\\"];\\nif (comm_status === undefined) {\\n  comm_status = {event_buffer: [], blocked: false, time: Date.now()}\\n  window.PyViz.comm_status[\\\"cbd0a74a2aeb4ea0852f7ee2971f235d\\\"] = comm_status\\n}\\n\\n// Add current event to queue and process queue if not blocked\\nevent_name = cb_obj.event_name\\ndata['comm_id'] = \\\"cbd0a74a2aeb4ea0852f7ee2971f235d\\\";\\ntimeout = comm_status.time + 20000;\\nif ((comm_status.blocked && (Date.now() < timeout))) {\\n  comm_status.event_buffer.unshift([event_name, data]);\\n} else {\\n  comm_status.event_buffer.unshift([event_name, data]);\\n  setTimeout(function() { process_events(comm_status); }, 50);\\n  comm_status.blocked = true;\\n  comm_status.time = Date.now()+50;\\n}\\n\"},\"id\":\"1006\",\"type\":\"CustomJS\"}],\"root_ids\":[\"1005\"]},\"title\":\"Bokeh Application\",\"version\":\"1.3.0\"}};\n",
       "  var render_items = [{\"docid\":\"ae1081d4-c9d7-4718-96f3-24e7f9dc4b71\",\"roots\":{\"1005\":\"1cea9de8-169b-4c2b-9afd-357ec2892db4\"}}];\n",
       "  root.Bokeh.embed.embed_items_notebook(docs_json, render_items);\n",
       "\n",
       "  }\n",
       "  if (root.Bokeh !== undefined) {\n",
       "    embed_document(root);\n",
       "  } else {\n",
       "    var attempts = 0;\n",
       "    var timer = setInterval(function(root) {\n",
       "      if (root.Bokeh !== undefined) {\n",
       "        embed_document(root);\n",
       "        clearInterval(timer);\n",
       "      }\n",
       "      attempts++;\n",
       "      if (attempts > 100) {\n",
       "        console.log(\"Bokeh: ERROR: Unable to run BokehJS code because BokehJS library is missing\");\n",
       "        clearInterval(timer);\n",
       "      }\n",
       "    }, 10, root)\n",
       "  }\n",
       "})(window);</script>"
      ],
      "text/plain": [
       "VTK(vtkCocoaRenderWindow, height=400, sizing_mode='stretch_width')"
      ]
     },
     "execution_count": 4,
     "metadata": {
      "application/vnd.holoviews_exec.v0+json": {
       "id": "1005"
      }
     },
     "output_type": "execute_result"
    }
   ],
   "source": [
    "# Create the 3D NumPy array of spatially referenced data\n",
    "# This is spatially referenced such that the grid is 20 by 5 by 10\n",
    "#   (nx by ny by nz)\n",
    "values = np.linspace(0, 10, 1000).reshape((20, 5, 10))\n",
    "values.shape\n",
    "\n",
    "# Create the spatial reference\n",
    "grid = pv.UniformGrid()\n",
    "\n",
    "# Set the grid dimensions: shape because we want to inject our values on the\n",
    "#   POINT data\n",
    "grid.dimensions = values.shape\n",
    "\n",
    "# Edit the spatial reference\n",
    "grid.origin = (100, 33, 55.6)  # The bottom left corner of the data set\n",
    "grid.spacing = (1, 5, 2)  # These are the cell sizes along each axis\n",
    "\n",
    "# Add the data values to the cell data\n",
    "grid.point_arrays[\"values\"] = values.flatten(order=\"F\")  # Flatten the array!\n",
    "\n",
    "# Now plot the grid!\n",
    "grid.plot(show_edges=True)"
   ]
  }
 ],
 "metadata": {
  "kernelspec": {
   "display_name": "Python 3",
   "language": "python",
   "name": "python3"
  },
  "language_info": {
   "codemirror_mode": {
    "name": "ipython",
    "version": 3
   },
   "file_extension": ".py",
   "mimetype": "text/x-python",
   "name": "python",
   "nbconvert_exporter": "python",
   "pygments_lexer": "ipython3",
   "version": "3.7.3"
  }
 },
 "nbformat": 4,
 "nbformat_minor": 4
}
